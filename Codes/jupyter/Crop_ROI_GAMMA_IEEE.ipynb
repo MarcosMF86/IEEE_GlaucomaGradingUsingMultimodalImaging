{
  "cells": [
    {
      "cell_type": "code",
      "execution_count": null,
      "metadata": {
        "colab": {
          "base_uri": "https://localhost:8080/"
        },
        "id": "Wizl7PTN1YLa",
        "outputId": "ba228232-b00b-4706-f56b-ba52a758e280"
      },
      "outputs": [
        {
          "output_type": "stream",
          "name": "stdout",
          "text": [
            "Mounted at /content/gdrive\n"
          ]
        }
      ],
      "source": [
        "#path\n",
        "import os\n",
        "from google.colab import drive\n",
        "drive.mount('/content/gdrive',force_remount=True)\n",
        "#path_dataset = '/content/gdrive/MyDrive/Doutorado/Bases/GAMMA_training_data/multi-modality_images/'\n",
        "path_dataset = '/content/gdrive/My Drive/Doutorado/Bases/GAMMA_val_data/multi-modality_images/'\n",
        "os.chdir(path_dataset)"
      ]
    },
    {
      "cell_type": "markdown",
      "metadata": {
        "id": "tm8d39Mc67DH"
      },
      "source": [
        "# Plot Image with mask"
      ]
    },
    {
      "cell_type": "code",
      "execution_count": null,
      "metadata": {
        "id": "LTuggxrvQkv9"
      },
      "outputs": [],
      "source": [
        "import cv2\n",
        "import argparse\n",
        "import matplotlib.pyplot as plt\n",
        "import numpy as np\n",
        "import csv\n",
        "from pathlib import Path\n",
        "#ap = argparse.ArgumentParser()\n",
        "#ap.add_argument (\"-i\", \"--image = fundus_images/0101.jpg\", required=True, help=\"path to input image\")\n",
        "#ap.add_argument (\"-c\", \"--connectivity\", type=int, default=4, help=\"connectivity for connected component analysis\")\n",
        "#args = vars(ap.parse_args())\n",
        "#ap.parse_args()"
      ]
    },
    {
      "cell_type": "code",
      "execution_count": null,
      "metadata": {
        "colab": {
          "base_uri": "https://localhost:8080/",
          "height": 171
        },
        "id": "SYtr3uz_4pst",
        "outputId": "c248325c-5e8c-48a0-90d5-ba6ac765928b"
      },
      "outputs": [
        {
          "output_type": "execute_result",
          "data": {
            "text/plain": [
              "<matplotlib.image.AxesImage at 0x7f1a7f08a080>"
            ]
          },
          "metadata": {},
          "execution_count": 3
        },
        {
          "output_type": "display_data",
          "data": {
            "text/plain": [
              "<Figure size 640x480 with 2 Axes>"
            ],
            "image/png": "[encoded data removed]"
          },
          "metadata": {}
        }
      ],
      "source": [
        "path_image = (\"fundus_images/0120.jpg\")#validation\n",
        "path_mask = (\"Masks_DO_V4/0120.png\")#validation\n",
        "\n",
        "image = cv2.imread(path_image)\n",
        "img_height, img_width, c = image.shape\n",
        "image = cv2.resize(image,(img_width, img_height))\n",
        "b,g,r = cv2.split(image)\n",
        "image = cv2.merge([r,g,b])\n",
        "\n",
        "mask = cv2.imread(path_mask)\n",
        "image2 = mask\n",
        "image2 = cv2.resize(image2,(img_width, img_height))\n",
        "\n",
        "fig = plt.figure()\n",
        "fig.subplots_adjust(hspace=0.4, wspace=0.4)#Ajustando o layout do plot da imagem\n",
        "ax = fig.add_subplot(1, 3, 1)#Imagem 1\n",
        "ax.imshow(image)\n",
        "ax = fig.add_subplot(1, 3, 2)#Imagem 2 (mask)\n",
        "ax.imshow(image2)\n"
      ]
    },
    {
      "cell_type": "markdown",
      "metadata": {
        "id": "tnXcBXi7VCVB"
      },
      "source": [
        "# Test 1 image"
      ]
    },
    {
      "cell_type": "code",
      "execution_count": null,
      "metadata": {
        "id": "6U7ysg1HtOmh"
      },
      "outputs": [],
      "source": [
        "def calc_stats (mask, img_width, img_height):#return labels, num labels...\n",
        "  mask = cv2.resize(mask, (img_width, img_height))\n",
        "  gray = cv2.cvtColor(mask, cv2.COLOR_BGR2GRAY)\n",
        "  connectivity = 4\n",
        "  thresh = cv2.threshold(gray, 0, 255,\n",
        "\t  cv2.THRESH_BINARY_INV | cv2.THRESH_OTSU)[1]\n",
        "\n",
        "  output = cv2.connectedComponentsWithStats(thresh, connectivity, cv2.CV_32S)\n",
        "  (numLabels, labels, stats, centroids) = output\n",
        "  return numLabels, labels, stats, centroids"
      ]
    },
    {
      "cell_type": "code",
      "execution_count": null,
      "metadata": {
        "id": "50yOYETM2uEn"
      },
      "outputs": [],
      "source": [
        "# load the input image from disk, convert it to grayscale, and\n",
        "# threshold it\n",
        "path_image = (\"fundus_images/0120.jpg\")\n",
        "path_mask = (\"Masks_DO_V4/0120.png\")\n",
        "\n",
        "image = cv2.imread(path_image)\n",
        "img_height, img_width, c = image.shape\n",
        "\n",
        "b,g,r = cv2.split(image)\n",
        "image = cv2.merge([r,g,b])\n",
        "mask = cv2.imread(path_mask)"
      ]
    },
    {
      "cell_type": "code",
      "execution_count": null,
      "metadata": {
        "id": "_rMEMi81PfBa"
      },
      "outputs": [],
      "source": [
        "from itertools import cycle\n",
        "# loop over the number of unique connected component labels\n",
        "def get_stats(numLabels, stats, centroids):\n",
        "  for i in range(0, numLabels):\n",
        "  #for i in range(0, 4):\n",
        "    # if this is the first component then we examine the\n",
        "    # *background* (typically we would just ignore this\n",
        "    # component in our loop)\n",
        "    if i == 0:\n",
        "      text = \"examining component {}/{} (background)\".format(\n",
        "        i + 1, numLabels)\n",
        "    # otherwise, we are examining an actual connected component\n",
        "    else:\n",
        "      text = \"examining component {}/{}\".format( i + 1, numLabels)\n",
        "    # print a status message update for the current connected\n",
        "    # component\n",
        "    #print(\"[INFO] {}\".format(text))\n",
        "    # extract the connected component statistics and centroid for\n",
        "    # the current label\n",
        "    x = stats[i, cv2.CC_STAT_LEFT]\n",
        "    y = stats[i, cv2.CC_STAT_TOP]\n",
        "    w = stats[i, cv2.CC_STAT_WIDTH]\n",
        "    h = stats[i, cv2.CC_STAT_HEIGHT]\n",
        "    area = stats[i, cv2.CC_STAT_AREA]\n",
        "    (cX, cY) = centroids[i]\n",
        "  return x, y, w, h, cX, cY"
      ]
    },
    {
      "cell_type": "code",
      "execution_count": null,
      "metadata": {
        "id": "6_Gf_kd2Roub"
      },
      "outputs": [],
      "source": [
        "numLabels, labels, stats, centroids = calc_stats(mask, img_width, img_height)\n",
        "x_1, y_1, w_1, h_1, cX_1, cY_1 = get_stats(numLabels, stats, centroids)\n",
        "output = image.copy()\n",
        "cv2.rectangle(output, (x_1, y_1), (x_1 + w_1, y_1 + h_1), (0, 255, 0), 25)\n",
        "gap=50#pixel offset to crop\n",
        "roi_cropped = image[int(y_1-gap):int(y_1+h_1+gap), int(x_1-gap):int(x_1+w_1+gap)]\n",
        "#cv2.rectangle(output, (x_2, y_2), (x_2 + w_2, y_2 + h_2), (0, 255, 0), 5)\n",
        "cv2.circle(output, (int(cX_1), int(cY_1)), 4, (0, 0, 255), -1)\n",
        "# show our output image and connected component mask\n",
        "fig, (ax1, ax2) = plt.subplots(1, 2, figsize = (15, 5))\n",
        "\n",
        "ax1.axis('off')\n",
        "ax2.axis('off')\n",
        "\n",
        "ax1.imshow(output)\n",
        "ax2.imshow(roi_cropped)\n",
        "\n",
        "#imgplot = plt.imshow(output)\n",
        "cv2.waitKey(0)"
      ]
    },
    {
      "cell_type": "markdown",
      "metadata": {
        "id": "yZfFrSY-VFYl"
      },
      "source": [
        "# Crop fundus images"
      ]
    },
    {
      "cell_type": "markdown",
      "metadata": {
        "id": "HGj0wvNiVYPn"
      },
      "source": [
        "Files list"
      ]
    },
    {
      "cell_type": "code",
      "execution_count": null,
      "metadata": {
        "id": "OQ4cUZ3CVFF2"
      },
      "outputs": [],
      "source": [
        "\n",
        "#train\n",
        "folder_image = \"/content/gdrive/MyDrive/Doutorado/Bases/GAMMA_training_data/multi-modality_images/dataset_fundus/train/fundus_images flip - 100 images/\"\n",
        "folder_mask = \"/content/gdrive/MyDrive/Doutorado/Bases/GAMMA_training_data/multi-modality_images/dataset_fundus/train/Disc_Cup_Mask flip - 100 images/\"\n",
        "\n",
        "path_image = (\"dataset_fundus/train/fundus_images 90 images/\")\n",
        "path_mask = (\"dataset_fundus/train/Disc_Cup_Mask 90 images/\")\n",
        "batch_size = 2\n",
        "\n",
        "\n",
        "train_ids = []\n",
        "\n",
        "train_ids = sorted(os.listdir(folder_image))\n",
        "train_ids = [i.split('.', 1)[0] for i in train_ids]#separate name (IDS) from suffix (.png)"
      ]
    },
    {
      "cell_type": "markdown",
      "metadata": {
        "id": "vZ3WuMaxsbzp"
      },
      "source": [
        "# Crop ROIs\n"
      ]
    },
    {
      "cell_type": "code",
      "execution_count": null,
      "metadata": {
        "id": "tOapRUk5FC-M"
      },
      "outputs": [],
      "source": [
        "show=0\n",
        "gap=50\n",
        "connectivity = 4\n",
        "vODR = []#calculare vODR\n",
        "from skimage.measure import label, regionprops\n",
        "for id_name in train_ids:\n",
        "  image = os.path.join(folder_image,\"\",id_name) + \".jpg\"\n",
        "  image = cv2.imread(image)\n",
        "  #image = cv2.resize(image,(img_width, img_height))\n",
        "  h, w, c = image.shape\n",
        "  b,g,r = cv2.split(image)\n",
        "  image = cv2.merge([r,g,b])\n",
        "\n",
        "  mask = os.path.join(folder_mask,\"\",id_name) + \".png\"\n",
        "  mask = cv2.imread(mask)\n",
        "  mask = cv2.resize(mask,(w,h))\n",
        "  mask_1 = np.where(mask==128, 255, mask)\n",
        "  mask_2 = mask\n",
        "\n",
        "  numLabels, labels, stats, centroids = calc_stats(mask_1, w, h)\n",
        "  x_1, y_1, w_1, h_1, cX_1, cY_1 = get_stats(numLabels, stats, centroids)#cup\n",
        "  numLabels, labels, stats, centroids = calc_stats(mask_2, w, h)\n",
        "  x_2, y_2, w_2, h_2, cX_2, cY_2 = get_stats(numLabels, stats, centroids)#disc\n",
        "  r = (h_1)/(h_2)\n",
        "  vODR.append(r)\n",
        "\n",
        "  output = image.copy()\n",
        "  cv2.rectangle(output, (x_1, y_1), (x_1 + w_1, y_1 + h_1), (255, 0, 0), 5)#cup\n",
        "  cv2.rectangle(output, (x_2, y_2), (x_2 + w_2, y_2 + h_2), (0, 255, 0), 5)#disc\n",
        "\n",
        "  roi_cropped = image[int(y_2-gap):int(y_2+h_2+gap), int(x_2-gap):int(x_2+w_2+gap)]\n",
        "\n",
        "  cv2.circle(output, (int(cX_1), int(cY_1)), 4, (0, 0, 255), -1)\n",
        "  nome_imagem = 'ROI_disco_50px/' + id_name + '.jpg'\n",
        "  id = int(id_name)\n",
        "\n",
        "  if show <= 10:#show x images\n",
        "    fig, (ax1, ax2, ax3, ax4) = plt.subplots(1, 4, figsize = (15, 5))\n",
        "    ax1.imshow(image)\n",
        "    ax2.imshow (mask)\n",
        "    ax3.imshow(output)\n",
        "    ax4.imshow(roi_cropped)\n",
        "\n",
        "    ax1.set_title(id_name)\n",
        "    ax2.set_title(\"Mask\")\n",
        "    ax3.set_title('Imagem com Bounding Box')\n",
        "    ax4.set_title('ROI') #crop\n",
        "\n",
        "  #save crops\n",
        "  #b,g,r = cv2.split(roi_cropped)\n",
        "  #roi_cropped = cv2.merge([r,g,b])\n",
        "  #cv2.imwrite(nome_imagem, roi_cropped)\n",
        "  show+=1"
      ]
    }
  ],
  "metadata": {
    "colab": {
      "collapsed_sections": [
        "tm8d39Mc67DH",
        "tnXcBXi7VCVB",
        "m16hS_RRsX2z"
      ],
      "provenance": []
    },
    "kernelspec": {
      "display_name": "Python 3",
      "name": "python3"
    },
    "language_info": {
      "name": "python"
    }
  },
  "nbformat": 4,
  "nbformat_minor": 0
}