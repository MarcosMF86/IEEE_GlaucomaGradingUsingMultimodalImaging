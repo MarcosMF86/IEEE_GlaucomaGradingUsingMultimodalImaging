{
  "nbformat": 4,
  "nbformat_minor": 0,
  "metadata": {
    "colab": {
      "provenance": []
    },
    "kernelspec": {
      "name": "python3",
      "display_name": "Python 3"
    },
    "language_info": {
      "name": "python"
    },
    "accelerator": "GPU"
  },
  "cells": [
    {
      "cell_type": "code",
      "execution_count": null,
      "metadata": {
        "id": "NMCuP4lurTGR"
      },
      "outputs": [],
      "source": [
        "!pip install kaggle #Data extraction\n",
        "!pip install segmentation_models #Library with neural network models for image segmentation\n",
        "!pip install keras\n",
        "!pip install -U keras-tuner #Library used in parameter optimization\n",
        "%env SM_FRAMEWORK=tf.keras\n",
        "%matplotlib inline"
      ]
    },
    {
      "cell_type": "code",
      "source": [
        "import os\n",
        "import sys\n",
        "import random\n",
        "import numpy as np\n",
        "import cv2\n",
        "import matplotlib.pyplot as plt\n",
        "import tensorflow as tf\n",
        "from tensorflow import keras\n",
        "import matplotlib.image as mpimg\n",
        "import matplotlib.pyplot\n",
        "from PIL import Image"
      ],
      "metadata": {
        "id": "Wa0Xq-prsJtH"
      },
      "execution_count": null,
      "outputs": []
    },
    {
      "cell_type": "code",
      "source": [
        "#path to dataset\n",
        "import os\n",
        "from google.colab import drive\n",
        "drive.mount('/content/gdrive',force_remount=True)\n",
        "path_dataset = '/content/gdrive/My Drive/Doutorado/Bases/GAMMA_training_data/multi-modality_images/'\n",
        "os.chdir(path_dataset)"
      ],
      "metadata": {
        "colab": {
          "base_uri": "https://localhost:8080/"
        },
        "id": "DuHBVD0RQ87j",
        "outputId": "9380fd80-b934-4b0b-80ef-cc060aee0a43"
      },
      "execution_count": null,
      "outputs": [
        {
          "output_type": "stream",
          "name": "stdout",
          "text": [
            "Mounted at /content/gdrive\n"
          ]
        }
      ]
    },
    {
      "cell_type": "markdown",
      "source": [
        "# Data Generators"
      ],
      "metadata": {
        "id": "XzLfltDwLZXs"
      }
    },
    {
      "cell_type": "code",
      "source": [
        "#for training\n",
        "class DataGen(keras.utils.Sequence):  #Instância do data generator\n",
        "    def __init__(self, ids, path, batch_size=8, image_size=256): #Initialize data\n",
        "        self.ids = ids\n",
        "        self.path = path\n",
        "        self.batch_size = batch_size\n",
        "        self.image_size = image_size\n",
        "        self.on_epoch_end()\n",
        "\n",
        "    def __load__(self, id_name): #load images\n",
        "\n",
        "        image_path = os.path.join(self.path, \"\", id_name) + \".jpg\" #load images\n",
        "\n",
        "        mask_path = os.path.join(self.path, \"Disc_Cup_Mask\", id_name) + \".png\" #load masks\n",
        "\n",
        "        #image = metodoClahe(image_path)#preprocess for blood vessels\n",
        "\n",
        "        image = cv2.imread(image_path, 1) #read images\n",
        "        b,g,r = cv2.split(image)\n",
        "        image = cv2.merge([r,g,b])\n",
        "\n",
        "        #normalize\n",
        "        image = cv2.resize(image, (self.image_size, self.image_size))#\n",
        "        mask = np.zeros((self.image_size, self.image_size, 1))#Setting the size of each channel\n",
        "        _mask = cv2.imread(mask_path, -1)#equals to cv2.IMREAD_UNCHANGED\n",
        "        _mask = cv2.resize(_mask, (self.image_size, self.image_size))#\n",
        "        _mask = np.expand_dims(_mask, axis=-1)\n",
        "        mask = np.maximum(mask, _mask)\n",
        "        #Normalize\n",
        "        image = image/255.0\n",
        "        mask = mask/255.0\n",
        "\n",
        "        return image, mask\n",
        "\n",
        "    def __getitem__(self, index): #Function that will take an image from the generator, passing its index as a parameter\n",
        "        if(index+1)*self.batch_size > len(self.ids):\n",
        "            self.batch_size = len(self.ids) - index*self.batch_size\n",
        "\n",
        "        files_batch = self.ids[index*self.batch_size : (index+1)*self.batch_size]\n",
        "\n",
        "        image = []\n",
        "        mask  = []\n",
        "\n",
        "        for id_name in files_batch:\n",
        "            _img, _mask = self.__load__(id_name)\n",
        "            image.append(_img)\n",
        "            mask.append(_mask)\n",
        "\n",
        "        image = np.array(image)\n",
        "        mask  = np.array(mask)\n",
        "        return image, mask\n",
        "\n",
        "    def on_epoch_end(self):\n",
        "        pass\n",
        "\n",
        "    def __len__(self):\n",
        "        return int(np.ceil(len(self.ids)/float(self.batch_size)))"
      ],
      "metadata": {
        "id": "oqEfJYu_LcP6"
      },
      "execution_count": null,
      "outputs": []
    },
    {
      "cell_type": "code",
      "source": [
        "#for test set (without masks)\n",
        "class DataGenVal(keras.utils.Sequence):\n",
        "    def __init__(self, ids, path, batch_size=8, image_size=256):\n",
        "        self.ids = ids\n",
        "        self.path = path\n",
        "        self.batch_size = batch_size\n",
        "        self.image_size = image_size\n",
        "        self.on_epoch_end()\n",
        "\n",
        "    def __load__(self, id_name):\n",
        "        image_path = os.path.join(self.path, \"\", id_name) + \".jpg\" #load images\n",
        "\n",
        "        #Reading and converting the image to RGB (Disc Segmentation)\n",
        "        image = cv2.imread(image_path, 1) #\n",
        "        b,g,r = cv2.split(image)\n",
        "        image = cv2.merge([r,g,b])\n",
        "        #\n",
        "        image = cv2.resize(image, (self.image_size, self.image_size))\n",
        "\n",
        "        image = image/255.0\n",
        "\n",
        "        return image\n",
        "\n",
        "    def __getitem__(self, index):\n",
        "        if(index+1)*self.batch_size > len(self.ids):\n",
        "            self.batch_size = len(self.ids) - index*self.batch_size\n",
        "\n",
        "        files_batch = self.ids[index*self.batch_size : (index+1)*self.batch_size]\n",
        "\n",
        "        image = []\n",
        "\n",
        "        for id_name in files_batch:\n",
        "            _img = self.__load__(id_name)\n",
        "            image.append(_img)\n",
        "\n",
        "        image = np.array(image)\n",
        "\n",
        "        return image\n",
        "\n",
        "    def on_epoch_end(self):\n",
        "        pass\n",
        "\n",
        "    def __len__(self):\n",
        "        return int(np.ceil(len(self.ids)/float(self.batch_size)))"
      ],
      "metadata": {
        "id": "eEqOppPBnvOI"
      },
      "execution_count": null,
      "outputs": []
    },
    {
      "cell_type": "markdown",
      "source": [
        "# Organize Files"
      ],
      "metadata": {
        "id": "06UUIUsOUcMj"
      }
    },
    {
      "cell_type": "code",
      "source": [
        "image_size = 256 #Choose a multiple value of 32\n",
        "train_path = \"./fundus_images\" #path to train set\n",
        "#test_path = \"./Teste\" #path to test set\n",
        "batch_size = 2\n",
        "\n",
        "\n",
        "train_ids = []\n",
        "for files in os.walk(train_path):\n",
        "   for name in files:\n",
        "      train_ids.append(name)\n",
        "\n",
        "train_ids = train_ids[2]#file names\n",
        "train_ids = [i.split('.', 1)[0] for i in train_ids]#separate name (IDS) from suffix (.png)"
      ],
      "metadata": {
        "id": "KxkOuJRcUqm6"
      },
      "execution_count": null,
      "outputs": []
    },
    {
      "cell_type": "code",
      "source": [
        "gen = DataGen(train_ids, train_path, batch_size=batch_size, image_size=image_size)#read images\n",
        "x, y = gen.__getitem__(0)\n",
        "print(x.shape, y.shape)"
      ],
      "metadata": {
        "colab": {
          "base_uri": "https://localhost:8080/"
        },
        "id": "LYZKNeucXK1O",
        "outputId": "792e2431-3a10-4fb3-9861-2cd201560a49"
      },
      "execution_count": null,
      "outputs": [
        {
          "output_type": "stream",
          "name": "stdout",
          "text": [
            "(2, 256, 256, 3) (2, 256, 256, 1)\n"
          ]
        }
      ]
    },
    {
      "cell_type": "markdown",
      "source": [
        "# Read one image"
      ],
      "metadata": {
        "id": "mIeVER-3r3HY"
      }
    },
    {
      "cell_type": "code",
      "source": [
        "#Verifying that the image was read successfully\n",
        "r = random.randint(0, len(x)-1)#Random number to fetch an image to test\n",
        "print(r)\n",
        "fig = plt.figure()\n",
        "fig.subplots_adjust(hspace=0.4, wspace=0.4)#Adjusting the image plot layout\n",
        "ax = fig.add_subplot(1, 2, 1)#Image 1\n",
        "ax.imshow(x[r])\n",
        "ax = fig.add_subplot(1, 2, 2)#Image 2 (mask)\n",
        "ax.imshow(np.reshape(y[r], (image_size, image_size)), cmap=\"gray\")"
      ],
      "metadata": {
        "colab": {
          "base_uri": "https://localhost:8080/",
          "height": 226
        },
        "id": "6EnOHLUur50S",
        "outputId": "faea0fb3-9b93-47e8-a2ea-a5e45721b913"
      },
      "execution_count": null,
      "outputs": [
        {
          "output_type": "stream",
          "name": "stdout",
          "text": [
            "1\n"
          ]
        },
        {
          "output_type": "execute_result",
          "data": {
            "text/plain": [
              "<matplotlib.image.AxesImage at 0x7f1f04321750>"
            ]
          },
          "metadata": {},
          "execution_count": 9
        },
        {
          "output_type": "display_data",
          "data": {
            "text/plain": [
              "<Figure size 432x288 with 2 Axes>"
            ],
            "image/png": "[encoded data removed]"
          },
          "metadata": {
            "needs_background": "light"
          }
        }
      ]
    },
    {
      "cell_type": "code",
      "source": [
        "import keras\n",
        "import segmentation_models as sm\n",
        "from keras.losses import binary_crossentropy\n",
        "from keras import backend as K\n",
        "from tensorflow.keras import layers\n",
        "#from kerastuner.tuners import RandomSearch\n",
        "#import kerastuner as kt\n",
        "from sklearn import ensemble\n",
        "from sklearn import datasets\n",
        "from sklearn import linear_model\n",
        "from sklearn import metrics\n",
        "from sklearn import model_selection\n",
        "import segmentation_models as sm\n",
        "from tensorflow.keras.optimizers import SGD, Adam"
      ],
      "metadata": {
        "colab": {
          "base_uri": "https://localhost:8080/"
        },
        "id": "SkaV_f7Fs-Tr",
        "outputId": "8bd307ff-8310-4e1e-b382-408180ccdf96"
      },
      "execution_count": null,
      "outputs": [
        {
          "output_type": "stream",
          "name": "stdout",
          "text": [
            "Segmentation Models: using `tf.keras` framework.\n"
          ]
        }
      ]
    },
    {
      "cell_type": "markdown",
      "source": [
        "# Loss Functions"
      ],
      "metadata": {
        "id": "ZYiI95I8wPW1"
      }
    },
    {
      "cell_type": "code",
      "source": [
        "import keras\n",
        "import segmentation_models as sm\n",
        "from keras.losses import binary_crossentropy\n",
        "from keras import backend as K\n",
        "from tensorflow.keras import layers\n",
        "from kerastuner.tuners import RandomSearch\n",
        "import segmentation_models as sm\n",
        "import kerastuner as kt\n",
        "from sklearn import ensemble\n",
        "from sklearn import datasets\n",
        "from sklearn import linear_model\n",
        "from sklearn import metrics\n",
        "from sklearn import model_selection\n",
        "\n",
        " #Setting extra loss functions (which don't belong in the Python libraries) for testing\n",
        "def DiceBCELoss(targets, inputs, smooth=1e-6):\n",
        "\n",
        "  #flatten label and prediction tensors\n",
        "  inputs = K.flatten(inputs)\n",
        "  targets = K.flatten(targets)\n",
        "\n",
        "  BCE =  sm.losses.BinaryCELoss(targets, inputs)\n",
        "  intersection = K.sum(K.dot(targets, inputs))\n",
        "  dice_loss = sm.losses.bce_dice_loss\n",
        "  Dice_BCE = BCE + dice_loss\n",
        "\n",
        "  return Dice_BCE\n",
        "\n",
        "def TverskyLoss(targets, inputs, alpha=0.5, beta=0.5, smooth=1e-6):\n",
        "\n",
        "  #flatten label and prediction tensors\n",
        "  inputs = K.flatten(inputs)\n",
        "  targets = K.flatten(targets)\n",
        "\n",
        "  #True Positives, False Positives & False Negatives\n",
        "  TP = K.sum((inputs * targets))\n",
        "  FP = K.sum(((1-targets) * inputs))\n",
        "  FN = K.sum((targets * (1-inputs)))\n",
        "\n",
        "  Tversky = (TP + smooth) / (TP + alpha*FP + beta*FN + smooth)\n",
        "\n",
        "  return 1 - Tversky"
      ],
      "metadata": {
        "colab": {
          "base_uri": "https://localhost:8080/"
        },
        "id": "1lcZRy43wV-n",
        "outputId": "989bf119-7655-422b-c759-e2454784008c"
      },
      "execution_count": null,
      "outputs": [
        {
          "output_type": "stream",
          "name": "stdout",
          "text": [
            "Segmentation Models: using `tf.keras` framework.\n"
          ]
        },
        {
          "output_type": "stream",
          "name": "stderr",
          "text": [
            "/usr/local/lib/python3.7/dist-packages/ipykernel_launcher.py:6: DeprecationWarning: `import kerastuner` is deprecated, please use `import keras_tuner`.\n",
            "  \n"
          ]
        }
      ]
    },
    {
      "cell_type": "markdown",
      "source": [
        "# Models"
      ],
      "metadata": {
        "id": "PBk-VzG5wXtf"
      }
    },
    {
      "cell_type": "markdown",
      "source": [
        "# Base U- NET"
      ],
      "metadata": {
        "id": "10eXBz4ctBk5"
      }
    },
    {
      "cell_type": "code",
      "source": [
        "#Build a base U_net\n",
        "def down_block(x, filters, kernel_size=(3, 3), padding=\"same\", strides=1):\n",
        "    c = keras.layers.Conv2D(filters, kernel_size, padding=padding, strides=strides, activation=\"relu\")(x)\n",
        "    c = keras.layers.Conv2D(filters, kernel_size, padding=padding, strides=strides, activation=\"relu\")(c)\n",
        "    p = keras.layers.MaxPool2D((2, 2), (2, 2))(c)\n",
        "    return c, p\n",
        "\n",
        "def up_block(x, skip, filters, kernel_size=(3, 3), padding=\"same\", strides=1):\n",
        "    us = keras.layers.UpSampling2D((2, 2))(x)\n",
        "    concat = keras.layers.Concatenate()([us, skip])\n",
        "    c = keras.layers.Conv2D(filters, kernel_size, padding=padding, strides=strides, activation=\"relu\")(concat)\n",
        "    c = keras.layers.Conv2D(filters, kernel_size, padding=padding, strides=strides, activation=\"relu\")(c)\n",
        "    return c\n",
        "\n",
        "def bottleneck(x, filters, kernel_size=(3, 3), padding=\"same\", strides=1):\n",
        "    c = keras.layers.Conv2D(filters, kernel_size, padding=padding, strides=strides, activation=\"relu\")(x)\n",
        "    c = keras.layers.Conv2D(filters, kernel_size, padding=padding, strides=strides, activation=\"relu\")(c)\n",
        "    return c\n",
        "\n",
        "def UNet():\n",
        "    f = [16, 32, 64, 128, 256]\n",
        "    inputs = keras.layers.Input((image_size, image_size, 3))\n",
        "\n",
        "    p0 = inputs\n",
        "    c1, p1 = down_block(p0, f[0])\n",
        "    c2, p2 = down_block(p1, f[1])\n",
        "    c3, p3 = down_block(p2, f[2])\n",
        "    c4, p4 = down_block(p3, f[3])\n",
        "\n",
        "    bn = bottleneck(p4, f[4])\n",
        "\n",
        "    u1 = up_block(bn, c4, f[3]) #8 -> 16\n",
        "    u2 = up_block(u1, c3, f[2]) #16 -> 32\n",
        "    u3 = up_block(u2, c2, f[1]) #32 -> 64\n",
        "    u4 = up_block(u3, c1, f[0]) #64 -> 128\n",
        "\n",
        "    outputs = keras.layers.Conv2D(1, (1, 1), padding=\"same\", activation=\"sigmoid\")(u4)\n",
        "    model = keras.models.Model(inputs, outputs)\n",
        "    return model"
      ],
      "metadata": {
        "id": "d_0pNiaztDWo"
      },
      "execution_count": null,
      "outputs": []
    },
    {
      "cell_type": "markdown",
      "source": [
        "UNET - VGG 16"
      ],
      "metadata": {
        "id": "8DhRDvwDBqyb"
      }
    },
    {
      "cell_type": "code",
      "source": [
        "from keras.layers import Conv2D, BatchNormalization, Activation, MaxPool2D, Conv2DTranspose, Concatenate, Input\n",
        "from keras.models import Model\n",
        "from keras.applications.vgg16 import VGG16\n",
        "\n",
        "def conv_block(input, num_filters):\n",
        "    x = Conv2D(num_filters, 3, padding=\"same\")(input)\n",
        "    x = BatchNormalization()(x)\n",
        "    x = Activation(\"relu\")(x)\n",
        "\n",
        "    x = Conv2D(num_filters, 3, padding=\"same\")(x)\n",
        "    x = BatchNormalization()(x)\n",
        "    x = Activation(\"relu\")(x)\n",
        "\n",
        "    return x\n",
        "\n",
        "def decoder_block(input, skip_features, num_filters):\n",
        "    x = Conv2DTranspose(num_filters, (2, 2), strides=2, padding=\"same\")(input)\n",
        "    x = Concatenate()([x, skip_features])\n",
        "    x = conv_block(x, num_filters)\n",
        "    return x\n",
        "\n",
        "def build_vgg16_unet(input_shape):\n",
        "    \"\"\" Input \"\"\"\n",
        "    inputs = Input(input_shape)\n",
        "\n",
        "    \"\"\" Pre-trained VGG16 Model \"\"\"\n",
        "    vgg16 = VGG16(include_top=False, weights=\"imagenet\", input_tensor=inputs)\n",
        "\n",
        "    \"\"\" Encoder \"\"\"\n",
        "    s1 = vgg16.get_layer(\"block1_conv2\").output         ## (512 x 512)\n",
        "    s2 = vgg16.get_layer(\"block2_conv2\").output         ## (256 x 256)\n",
        "    s3 = vgg16.get_layer(\"block3_conv3\").output         ## (128 x 128)\n",
        "    s4 = vgg16.get_layer(\"block4_conv3\").output         ## (64 x 64)\n",
        "\n",
        "    \"\"\" Bridge \"\"\"\n",
        "    b1 = vgg16.get_layer(\"block5_conv3\").output         ## (32 x 32)\n",
        "\n",
        "    \"\"\" Decoder \"\"\"\n",
        "    d1 = decoder_block(b1, s4, 512)                     ## (64 x 64)\n",
        "    d2 = decoder_block(d1, s3, 256)                     ## (128 x 128)\n",
        "    d3 = decoder_block(d2, s2, 128)                     ## (256 x 256)\n",
        "    d4 = decoder_block(d3, s1, 64)                      ## (512 x 512)\n",
        "\n",
        "    \"\"\" Output \"\"\"\n",
        "    outputs = Conv2D(1, 1, padding=\"same\", activation=\"sigmoid\")(d4)\n",
        "\n",
        "    model = Model(inputs, outputs, name=\"VGG16_U-Net\")\n",
        "    return model\n",
        "\n",
        "if __name__ == \"__main__\":\n",
        "    input_shape = (image_size, image_size, 3)\n",
        "    model = build_vgg16_unet(input_shape)\n",
        "    #model.summary()"
      ],
      "metadata": {
        "id": "lDKExiovBs4g"
      },
      "execution_count": null,
      "outputs": []
    },
    {
      "cell_type": "markdown",
      "source": [
        "UNET DenseNet121"
      ],
      "metadata": {
        "id": "g6316N72eiEe"
      }
    },
    {
      "cell_type": "code",
      "source": [
        "from keras.layers import Conv2D, BatchNormalization, Activation, MaxPool2D, Conv2DTranspose, Concatenate, Input\n",
        "from keras.models import Model\n",
        "from keras.applications.densenet import DenseNet121\n",
        "\n",
        "def conv_block(inputs, num_filters):\n",
        "    x = Conv2D(num_filters, 3, padding=\"same\")(inputs)\n",
        "    x = BatchNormalization()(x)\n",
        "    x = Activation(\"relu\")(x)\n",
        "\n",
        "    x = Conv2D(num_filters, 3, padding=\"same\")(x)\n",
        "    x = BatchNormalization()(x)\n",
        "    x = Activation(\"relu\")(x)\n",
        "\n",
        "    return x\n",
        "\n",
        "def decoder_block(inputs, skip_features, num_filters):\n",
        "    x = Conv2DTranspose(num_filters, (2, 2), strides=2, padding=\"same\")(inputs)\n",
        "    x = Concatenate()([x, skip_features])\n",
        "    x = conv_block(x, num_filters)\n",
        "    return x\n",
        "\n",
        "def build_densenet121_unet(input_shape):\n",
        "    \"\"\" Input \"\"\"\n",
        "    inputs = Input(input_shape)\n",
        "\n",
        "    \"\"\" Pre-trained DenseNet121 Model \"\"\"\n",
        "    densenet = DenseNet121(include_top=False, weights=\"imagenet\", input_tensor=inputs)\n",
        "\n",
        "    \"\"\" Encoder \"\"\"\n",
        "    s1 = densenet.get_layer(\"input_1\").output       ## 512\n",
        "    s2 = densenet.get_layer(\"conv1/relu\").output    ## 256\n",
        "    s3 = densenet.get_layer(\"pool2_relu\").output ## 128\n",
        "    s4 = densenet.get_layer(\"pool3_relu\").output  ## 64\n",
        "\n",
        "    \"\"\" Bridge \"\"\"\n",
        "    b1 = densenet.get_layer(\"pool4_relu\").output  ## 32\n",
        "\n",
        "    \"\"\" Decoder \"\"\"\n",
        "    d1 = decoder_block(b1, s4, 512)             ## 64\n",
        "    d2 = decoder_block(d1, s3, 256)             ## 128\n",
        "    d3 = decoder_block(d2, s2, 128)             ## 256\n",
        "    d4 = decoder_block(d3, s1, 64)              ## 512\n",
        "\n",
        "    \"\"\" Outputs \"\"\"\n",
        "    outputs = Conv2D(1, 1, padding=\"same\", activation=\"sigmoid\")(d4)\n",
        "\n",
        "    model = Model(inputs, outputs)\n",
        "    return model\n",
        "\n",
        "\n",
        "if __name__ == \"__main__\":\n",
        "    input_shape = (image_size, image_size, 3)\n",
        "    model = build_densenet121_unet(input_shape)\n",
        "    #model.summary()"
      ],
      "metadata": {
        "id": "Y7hz3BtNek4m"
      },
      "execution_count": null,
      "outputs": []
    },
    {
      "cell_type": "code",
      "source": [
        "tf.keras.utils.plot_model(model, show_shapes=True)#visualize model"
      ],
      "metadata": {
        "id": "a-fhtxT0sJoi"
      },
      "execution_count": null,
      "outputs": []
    },
    {
      "cell_type": "code",
      "source": [
        "#model.compile(optimizer=\"adam\", loss=\"binary_crossentropy\", metrics=[\"acc\"])\n",
        "model.compile(optimizer=SGD(learning_rate=1e-4, momentum=0.95),\n",
        "              loss=sm.losses.bce_dice_loss,\n",
        "              #metrics=[mean_IOU_gpu, dice_metric])\n",
        "              metrics = sm.metrics.iou_score)\n",
        "\n",
        "#model.summary()\n",
        "\n",
        "#train_gen = DataGen(train_ids, train_path)\n",
        "train_gen = DataGen(train_ids, train_path, batch_size=batch_size, image_size=image_size)#Reading the images using the data generator\n",
        "train_steps = len(train_ids)//batch_size\n",
        "model.fit(train_gen, steps_per_epoch=train_steps, epochs = 100)"
      ],
      "metadata": {
        "id": "1kq6Ewwkt5Hw"
      },
      "execution_count": null,
      "outputs": []
    },
    {
      "cell_type": "markdown",
      "source": [
        "Pre-Trained Model"
      ],
      "metadata": {
        "id": "F42QgiAIp9j_"
      }
    },
    {
      "cell_type": "code",
      "source": [
        "#load pre-trained model\n",
        "\n",
        "os.environ['KAGGLE_USERNAME'] = \"lucascunhadecarvalho\"\n",
        "os.environ['KAGGLE_KEY'] = \"66aee9f83fd989281d28d8832f428c68\"\n",
        "\n",
        "def baixaModelos ():\n",
        "  !kaggle datasets download -d lucascunhadecarvalho/modelostreinadossegmentacao #Dataset used in vein segmentation\n",
        "  !unzip -q modelostreinadossegmentacao\n",
        "\n",
        "#classData () #If you want to perform the classification of eye fundus structures\n",
        "#classDataRimOne ()\n",
        "#baixaModelos() #Downloading the segmentation trained models - segmentation files\n",
        "\n",
        "from keras.models import load_model\n",
        "model = load_model('Modelo_DO.h5', custom_objects={'binary_crossentropy_plus_dice_loss': sm.losses.bce_dice_loss,\n",
        "                                                      'iou_score': sm.metrics.iou_score,\n",
        "                                                      'f1-score': sm.metrics.f1_score})\n",
        "\n"
      ],
      "metadata": {
        "id": "7jlE9UUep_Sx"
      },
      "execution_count": null,
      "outputs": []
    },
    {
      "cell_type": "code",
      "source": [
        "#acc/loss threshold\n",
        "from keras.callbacks import EarlyStopping\n",
        "class MyThresholdCallback(EarlyStopping):\n",
        "    def __init__(self, threshold):\n",
        "        super(MyThresholdCallback, self).__init__()\n",
        "        self.threshold = threshold\n",
        "\n",
        "    def on_epoch_end(self, epoch, logs=None):\n",
        "        #accuracy = (logs[\"glaucoma_acc\"] + logs[\"estagio_acc\"])/2\n",
        "        #accuracy = logs[\"acc\"]\n",
        "        loss = logs[\"loss\"]\n",
        "        if loss <= self.threshold:\n",
        "            self.model.stop_training = True"
      ],
      "metadata": {
        "id": "weX4ZMLtuODR"
      },
      "execution_count": null,
      "outputs": []
    },
    {
      "cell_type": "code",
      "source": [
        "es=MyThresholdCallback(threshold=.1)#callback option for early stopping\n",
        "callbacks=[es],"
      ],
      "metadata": {
        "id": "tbbLaBiyuotS"
      },
      "execution_count": null,
      "outputs": []
    },
    {
      "cell_type": "code",
      "source": [
        "#train and compile model\n",
        "model.compile(optimizer=SGD(learning_rate=1e-4, momentum=0.95),\n",
        "              loss=sm.losses.bce_dice_loss,\n",
        "              #metrics=[mean_IOU_gpu, dice_metric])\n",
        "              metrics = sm.metrics.iou_score)\n",
        "\n",
        "train_gen = DataGen(train_ids, train_path, batch_size=batch_size, image_size=image_size)#Reading the images using the data generator\n",
        "train_steps = len(train_ids)//batch_size\n",
        "model.fit(train_gen, steps_per_epoch=train_steps, epochs = 100)"
      ],
      "metadata": {
        "id": "_asbqMZqsJa-"
      },
      "execution_count": null,
      "outputs": []
    },
    {
      "cell_type": "markdown",
      "source": [
        "# Test Set (Generate masks)"
      ],
      "metadata": {
        "id": "y5OTGSqhmV0z"
      }
    },
    {
      "cell_type": "code",
      "source": [
        "from keras.models import load_model\n",
        "os.chdir(path_dataset)\n",
        "#model_disco = load_model('./UNET-VGG16.h5')"
      ],
      "metadata": {
        "id": "IEGnLeZ9sbhw"
      },
      "execution_count": null,
      "outputs": []
    },
    {
      "cell_type": "code",
      "source": [
        "val_path_dataset = '/content/gdrive/My Drive/Doutorado/Bases/GAMMA_val_data/multi-modality_images/'\n",
        "os.chdir(val_path_dataset)"
      ],
      "metadata": {
        "id": "KEI-dexymT2N"
      },
      "execution_count": null,
      "outputs": []
    },
    {
      "cell_type": "code",
      "source": [
        "val_path = \"./fundus_images\" #path to test set\n",
        "\n",
        "val_ids = []\n",
        "for files in os.walk(val_path):#traversing directories\n",
        "   for name in files:\n",
        "      val_ids.append(name)\n",
        "\n",
        "val_ids = val_ids[2]#file names\n",
        "val_ids = [i.split('.', 1)[0] for i in val_ids]#Separando os nomes (IDS) de seus sufixos (.png)"
      ],
      "metadata": {
        "id": "MqzZHj7urRWh"
      },
      "execution_count": null,
      "outputs": []
    },
    {
      "cell_type": "code",
      "source": [
        "os.mkdir('Masks_DO_V4')#folder in which masks will be saved"
      ],
      "metadata": {
        "id": "Kq1JwSBqubsj"
      },
      "execution_count": null,
      "outputs": []
    },
    {
      "cell_type": "code",
      "source": [
        "def resultadosModeloSegmentacaoOdirDO (model):\n",
        "  test_gen = DataGenVal(val_ids, val_path, 1, 256)\n",
        "  show = 0\n",
        "\n",
        "  for i in range(len(test_gen)):\n",
        "    x = test_gen.__getitem__(i)\n",
        "    result = model.predict(x)\n",
        "    result = result > 0.5#???\n",
        "    fig = plt.figure(figsize = (16,8))\n",
        "    fig.subplots_adjust(hspace=0.4, wspace=0.4)\n",
        "\n",
        "    if show <= 20:#show 20 images\n",
        "      ax = fig.add_subplot(1, 3, 1)\n",
        "      ax.imshow(x[0])\n",
        "\n",
        "      ax = fig.add_subplot(1, 3, 2)\n",
        "      ax.imshow(np.reshape(result[0]*255, (256, 256)), cmap=\"gray\")\n",
        "\n",
        "    pred = np.dstack([result[0], result[0], result[0]])\n",
        "    pred = (pred * 255).astype(np.uint8)\n",
        "\n",
        "    nome_imagem = 'Masks_DO_V4/' + val_ids[i] + '.png'\n",
        "    img = Image.fromarray(pred, 'RGB')\n",
        "    img.save(nome_imagem)\n",
        "    cv2.imwrite(nome_imagem, pred)\n",
        "    im = Image.open(nome_imagem)\n",
        "    im.save(nome_imagem, \"png\")\n",
        "    show += 1\n",
        "\n",
        "resultadosModeloSegmentacaoOdirDO (model)"
      ],
      "metadata": {
        "id": "-fMmHZUzsav4"
      },
      "execution_count": null,
      "outputs": []
    }
  ]
}